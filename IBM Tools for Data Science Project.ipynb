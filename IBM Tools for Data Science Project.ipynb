{
    "cells": [
        {
            "cell_type": "markdown",
            "metadata": {
                "collapsed": true
            },
            "source": "# My Jupyter Notebook on IBM Watson Studio"
        },
        {
            "cell_type": "markdown",
            "metadata": {},
            "source": "**Rishad Alam**\n<p>\nProgram Manager, Analytics (Desired job)"
        },
        {
            "cell_type": "markdown",
            "metadata": {},
            "source": "*Knowledge and skills in Data Science are powerful tools for companies to utilize in order to make informed decisions based on useful analytics, facts, trends and statistics. It also enables the communication of information through data visualization for easier understanding of the information portrayed by data.*"
        },
        {
            "cell_type": "markdown",
            "metadata": {},
            "source": "### The below code prompts users  to input their name and birth year and calculates their age based on year of birth. ###"
        },
        {
            "cell_type": "code",
            "execution_count": 5,
            "metadata": {},
            "outputs": [
                {
                    "name": "stdout",
                    "output_type": "stream",
                    "text": "Enter your first name: Rishad\nEnter your last name: Alam\nWhat year were you born in: 1985\nRishad Alam will turn 36 on their birthday this year.\n"
                }
            ],
            "source": "FirstName = input(\"Enter your first name: \")\nLastName = input (\"Enter your last name: \")\nFullName = FirstName + \" \" + LastName\ntry:\n    BirthYear = int(input(\"What year were you born in: \"))\nexcept ValueError:\n    print(\"Enter valid year.\")\n    BirthYear = int(input(\"What year were you born in: \"))\nfrom datetime import datetime \ncurrentYear = datetime.now().year\nAge = currentYear - BirthYear\nprint(FullName, \"will turn\", Age, \"on their birthday this year.\")"
        },
        {
            "cell_type": "markdown",
            "metadata": {},
            "source": "<html>\n<hr />\n<p style=\"text-align: center;\">&nbsp;</p>\n<p style=\"text-align: center;\">Your review and feedback on this assignment is greatly appreciated.&nbsp;</p>\n<table style=\"height: 114px; margin-left: auto; margin-right: auto;\" width=\"357\">\n<tbody>\n<tr>\n<td style=\"width: 168px; text-align: left;\">Name:</td>\n<td style=\"width: 174.4px; text-align: left;\">Rishad Alam</td>\n</tr>\n<tr>\n<td style=\"width: 168px; text-align: left;\">Date:</td>\n<td style=\"width: 174.4px; text-align: left;\">January 27, 2020</td>\n</tr>\n<tr>\n<td style=\"width: 168px; text-align: left;\">Course:</td>\n<td style=\"width: 174.4px; text-align: left;\">IBM Tools for Data Science</td>\n</tr>\n<tr>\n<td style=\"width: 168px; text-align: left;\">Shareable link:</td>\n<td style=\"width: 174.4px; text-align: left;\"><a href=\"https://dataplatform.cloud.ibm.com/analytics/notebooks/v2/d1b13722-63fe-4be7-aaa8-dabe3508c47e/view?access_token=4c27b0cbbc4dd234ca65f5762b84d1bfab24525eadf8bc6427b6b3e0ab132778\">Click or Copy this link</a></td>\n</tr>\n</tbody>\n</table>\n<p style=\"text-align: center;\"><img src=\"https://harriswhitesellconsulting.com/wp-content/uploads/2019/07/ThankYou_shutterstock_735650659-1024x683.jpg\" alt=\"\" width=\"500\" height=\"333\" /></p>\n    \n<html/>"
        }
    ],
    "metadata": {
        "kernelspec": {
            "display_name": "Python 3.7",
            "language": "python",
            "name": "python3"
        },
        "language_info": {
            "codemirror_mode": {
                "name": "ipython",
                "version": 3
            },
            "file_extension": ".py",
            "mimetype": "text/x-python",
            "name": "python",
            "nbconvert_exporter": "python",
            "pygments_lexer": "ipython3",
            "version": "3.7.9"
        }
    },
    "nbformat": 4,
    "nbformat_minor": 1
}